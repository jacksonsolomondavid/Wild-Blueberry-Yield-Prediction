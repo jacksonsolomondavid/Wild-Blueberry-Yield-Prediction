{
 "cells": [
  {
   "cell_type": "markdown",
   "id": "66b042a1",
   "metadata": {},
   "source": [
    "## Testing the Saved Model"
   ]
  },
  {
   "cell_type": "code",
   "execution_count": 1,
   "id": "12e16486",
   "metadata": {},
   "outputs": [],
   "source": [
    "import pickle\n",
    "import pandas as pd\n",
    "import xgboost"
   ]
  },
  {
   "cell_type": "code",
   "execution_count": 2,
   "id": "7e6d1250",
   "metadata": {},
   "outputs": [],
   "source": [
    "with open('best_model.pkl', 'rb') as file:\n",
    "    loaded_model = pickle.load(file)"
   ]
  },
  {
   "cell_type": "code",
   "execution_count": 3,
   "id": "2d473daa",
   "metadata": {},
   "outputs": [],
   "source": [
    "with open('standard_scaler.pkl', 'rb') as file:\n",
    "    loaded_scaler = pickle.load(file)"
   ]
  },
  {
   "cell_type": "code",
   "execution_count": 4,
   "id": "d1b284de",
   "metadata": {},
   "outputs": [],
   "source": [
    "names=['clonesize', 'honeybee', 'bumbles', 'andrena', 'osmia',\n",
    "       'MaxOfUpperTRange', 'MinOfUpperTRange', 'AverageOfUpperTRange',\n",
    "       'MaxOfLowerTRange', 'MinOfLowerTRange', 'AverageOfLowerTRange',\n",
    "       'RainingDays', 'AverageRainingDays']"
   ]
  },
  {
   "cell_type": "code",
   "execution_count": 5,
   "id": "712a0ab3",
   "metadata": {},
   "outputs": [],
   "source": [
    "X_new=[[37.5,0.75,0.2,0.25,0.25,86.0,52.0,71.9,62.0,30.0,50.8,16.0,0.26]]\n",
    "X_new=pd.DataFrame(X_new, columns=names)"
   ]
  },
  {
   "cell_type": "code",
   "execution_count": 6,
   "id": "90cfbbda",
   "metadata": {},
   "outputs": [],
   "source": [
    "X_new=loaded_scaler.transform(X_new)"
   ]
  },
  {
   "cell_type": "code",
   "execution_count": 7,
   "id": "7c2a82b2",
   "metadata": {},
   "outputs": [
    {
     "data": {
      "text/plain": [
       "array([[ 2.67234719,  2.91964747, -1.31142795, -1.3890498 , -1.91125824,\n",
       "         0.40641986,  0.41244054,  0.41535043,  0.40621824,  0.40958388,\n",
       "         0.40517505, -0.19702952, -0.35962034]])"
      ]
     },
     "execution_count": 7,
     "metadata": {},
     "output_type": "execute_result"
    }
   ],
   "source": [
    "X_new"
   ]
  },
  {
   "cell_type": "code",
   "execution_count": 8,
   "id": "af4f574e",
   "metadata": {},
   "outputs": [],
   "source": [
    "X_new=pd.DataFrame(X_new, columns=names)"
   ]
  },
  {
   "cell_type": "code",
   "execution_count": 9,
   "id": "8077f012",
   "metadata": {},
   "outputs": [
    {
     "name": "stdout",
     "output_type": "stream",
     "text": [
      "3628.4773\n"
     ]
    }
   ],
   "source": [
    "print(loaded_model.predict(X_new)[0])"
   ]
  }
 ],
 "metadata": {
  "kernelspec": {
   "display_name": "Python 3 (ipykernel)",
   "language": "python",
   "name": "python3"
  },
  "language_info": {
   "codemirror_mode": {
    "name": "ipython",
    "version": 3
   },
   "file_extension": ".py",
   "mimetype": "text/x-python",
   "name": "python",
   "nbconvert_exporter": "python",
   "pygments_lexer": "ipython3",
   "version": "3.11.5"
  }
 },
 "nbformat": 4,
 "nbformat_minor": 5
}
